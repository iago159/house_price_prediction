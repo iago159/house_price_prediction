{
 "cells": [
  {
   "cell_type": "code",
   "execution_count": 94,
   "id": "74fa2d26",
   "metadata": {},
   "outputs": [],
   "source": [
    "import pandas as pd\n",
    "import numpy as np\n",
    "import matplotlib.pyplot as plt\n",
    "%matplotlib inline\n",
    "import matplotlib\n",
    "matplotlib.rcParams['figure.figsize'] = (20,10)"
   ]
  },
  {
   "cell_type": "markdown",
   "id": "46632801",
   "metadata": {},
   "source": [
    "## Import the data"
   ]
  },
  {
   "cell_type": "code",
   "execution_count": 95,
   "id": "8daf3d2a",
   "metadata": {},
   "outputs": [
    {
     "data": {
      "text/html": [
       "<div>\n",
       "<style scoped>\n",
       "    .dataframe tbody tr th:only-of-type {\n",
       "        vertical-align: middle;\n",
       "    }\n",
       "\n",
       "    .dataframe tbody tr th {\n",
       "        vertical-align: top;\n",
       "    }\n",
       "\n",
       "    .dataframe thead th {\n",
       "        text-align: right;\n",
       "    }\n",
       "</style>\n",
       "<table border=\"1\" class=\"dataframe\">\n",
       "  <thead>\n",
       "    <tr style=\"text-align: right;\">\n",
       "      <th></th>\n",
       "      <th>area_type</th>\n",
       "      <th>availability</th>\n",
       "      <th>location</th>\n",
       "      <th>size</th>\n",
       "      <th>society</th>\n",
       "      <th>total_sqft</th>\n",
       "      <th>bath</th>\n",
       "      <th>balcony</th>\n",
       "      <th>price</th>\n",
       "    </tr>\n",
       "  </thead>\n",
       "  <tbody>\n",
       "    <tr>\n",
       "      <th>0</th>\n",
       "      <td>Super built-up  Area</td>\n",
       "      <td>19-Dec</td>\n",
       "      <td>Electronic City Phase II</td>\n",
       "      <td>2 BHK</td>\n",
       "      <td>Coomee</td>\n",
       "      <td>1056</td>\n",
       "      <td>2.0</td>\n",
       "      <td>1.0</td>\n",
       "      <td>39.07</td>\n",
       "    </tr>\n",
       "    <tr>\n",
       "      <th>1</th>\n",
       "      <td>Plot  Area</td>\n",
       "      <td>Ready To Move</td>\n",
       "      <td>Chikka Tirupathi</td>\n",
       "      <td>4 Bedroom</td>\n",
       "      <td>Theanmp</td>\n",
       "      <td>2600</td>\n",
       "      <td>5.0</td>\n",
       "      <td>3.0</td>\n",
       "      <td>120.00</td>\n",
       "    </tr>\n",
       "    <tr>\n",
       "      <th>2</th>\n",
       "      <td>Built-up  Area</td>\n",
       "      <td>Ready To Move</td>\n",
       "      <td>Uttarahalli</td>\n",
       "      <td>3 BHK</td>\n",
       "      <td>NaN</td>\n",
       "      <td>1440</td>\n",
       "      <td>2.0</td>\n",
       "      <td>3.0</td>\n",
       "      <td>62.00</td>\n",
       "    </tr>\n",
       "    <tr>\n",
       "      <th>3</th>\n",
       "      <td>Super built-up  Area</td>\n",
       "      <td>Ready To Move</td>\n",
       "      <td>Lingadheeranahalli</td>\n",
       "      <td>3 BHK</td>\n",
       "      <td>Soiewre</td>\n",
       "      <td>1521</td>\n",
       "      <td>3.0</td>\n",
       "      <td>1.0</td>\n",
       "      <td>95.00</td>\n",
       "    </tr>\n",
       "    <tr>\n",
       "      <th>4</th>\n",
       "      <td>Super built-up  Area</td>\n",
       "      <td>Ready To Move</td>\n",
       "      <td>Kothanur</td>\n",
       "      <td>2 BHK</td>\n",
       "      <td>NaN</td>\n",
       "      <td>1200</td>\n",
       "      <td>2.0</td>\n",
       "      <td>1.0</td>\n",
       "      <td>51.00</td>\n",
       "    </tr>\n",
       "  </tbody>\n",
       "</table>\n",
       "</div>"
      ],
      "text/plain": [
       "              area_type   availability                  location       size  \\\n",
       "0  Super built-up  Area         19-Dec  Electronic City Phase II      2 BHK   \n",
       "1            Plot  Area  Ready To Move          Chikka Tirupathi  4 Bedroom   \n",
       "2        Built-up  Area  Ready To Move               Uttarahalli      3 BHK   \n",
       "3  Super built-up  Area  Ready To Move        Lingadheeranahalli      3 BHK   \n",
       "4  Super built-up  Area  Ready To Move                  Kothanur      2 BHK   \n",
       "\n",
       "   society total_sqft  bath  balcony   price  \n",
       "0  Coomee        1056   2.0      1.0   39.07  \n",
       "1  Theanmp       2600   5.0      3.0  120.00  \n",
       "2      NaN       1440   2.0      3.0   62.00  \n",
       "3  Soiewre       1521   3.0      1.0   95.00  \n",
       "4      NaN       1200   2.0      1.0   51.00  "
      ]
     },
     "execution_count": 95,
     "metadata": {},
     "output_type": "execute_result"
    }
   ],
   "source": [
    "df1 = pd.read_csv('Bengaluru_House_Data.csv')\n",
    "df1.head()"
   ]
  },
  {
   "cell_type": "code",
   "execution_count": 96,
   "id": "3bdd0614",
   "metadata": {},
   "outputs": [
    {
     "data": {
      "text/plain": [
       "(13320, 9)"
      ]
     },
     "execution_count": 96,
     "metadata": {},
     "output_type": "execute_result"
    }
   ],
   "source": [
    "df1.shape"
   ]
  },
  {
   "cell_type": "markdown",
   "id": "792540a1",
   "metadata": {},
   "source": [
    "# Task 1: Clean the data"
   ]
  },
  {
   "cell_type": "markdown",
   "id": "6b87e10d",
   "metadata": {},
   "source": [
    "### Counting how many different 'area_type' we have"
   ]
  },
  {
   "cell_type": "code",
   "execution_count": 97,
   "id": "ac5eb24a",
   "metadata": {
    "scrolled": true
   },
   "outputs": [
    {
     "data": {
      "text/plain": [
       "area_type\n",
       "Built-up  Area          2418\n",
       "Carpet  Area              87\n",
       "Plot  Area              2025\n",
       "Super built-up  Area    8790\n",
       "Name: area_type, dtype: int64"
      ]
     },
     "execution_count": 97,
     "metadata": {},
     "output_type": "execute_result"
    }
   ],
   "source": [
    "df1.groupby('area_type')['area_type'].agg('count')"
   ]
  },
  {
   "cell_type": "markdown",
   "id": "b98a2a48",
   "metadata": {},
   "source": [
    "### Dropping the unnecessary columns"
   ]
  },
  {
   "cell_type": "code",
   "execution_count": 98,
   "id": "ba286951",
   "metadata": {},
   "outputs": [
    {
     "data": {
      "text/html": [
       "<div>\n",
       "<style scoped>\n",
       "    .dataframe tbody tr th:only-of-type {\n",
       "        vertical-align: middle;\n",
       "    }\n",
       "\n",
       "    .dataframe tbody tr th {\n",
       "        vertical-align: top;\n",
       "    }\n",
       "\n",
       "    .dataframe thead th {\n",
       "        text-align: right;\n",
       "    }\n",
       "</style>\n",
       "<table border=\"1\" class=\"dataframe\">\n",
       "  <thead>\n",
       "    <tr style=\"text-align: right;\">\n",
       "      <th></th>\n",
       "      <th>location</th>\n",
       "      <th>size</th>\n",
       "      <th>total_sqft</th>\n",
       "      <th>bath</th>\n",
       "      <th>price</th>\n",
       "    </tr>\n",
       "  </thead>\n",
       "  <tbody>\n",
       "    <tr>\n",
       "      <th>0</th>\n",
       "      <td>Electronic City Phase II</td>\n",
       "      <td>2 BHK</td>\n",
       "      <td>1056</td>\n",
       "      <td>2.0</td>\n",
       "      <td>39.07</td>\n",
       "    </tr>\n",
       "    <tr>\n",
       "      <th>1</th>\n",
       "      <td>Chikka Tirupathi</td>\n",
       "      <td>4 Bedroom</td>\n",
       "      <td>2600</td>\n",
       "      <td>5.0</td>\n",
       "      <td>120.00</td>\n",
       "    </tr>\n",
       "    <tr>\n",
       "      <th>2</th>\n",
       "      <td>Uttarahalli</td>\n",
       "      <td>3 BHK</td>\n",
       "      <td>1440</td>\n",
       "      <td>2.0</td>\n",
       "      <td>62.00</td>\n",
       "    </tr>\n",
       "    <tr>\n",
       "      <th>3</th>\n",
       "      <td>Lingadheeranahalli</td>\n",
       "      <td>3 BHK</td>\n",
       "      <td>1521</td>\n",
       "      <td>3.0</td>\n",
       "      <td>95.00</td>\n",
       "    </tr>\n",
       "    <tr>\n",
       "      <th>4</th>\n",
       "      <td>Kothanur</td>\n",
       "      <td>2 BHK</td>\n",
       "      <td>1200</td>\n",
       "      <td>2.0</td>\n",
       "      <td>51.00</td>\n",
       "    </tr>\n",
       "  </tbody>\n",
       "</table>\n",
       "</div>"
      ],
      "text/plain": [
       "                   location       size total_sqft  bath   price\n",
       "0  Electronic City Phase II      2 BHK       1056   2.0   39.07\n",
       "1          Chikka Tirupathi  4 Bedroom       2600   5.0  120.00\n",
       "2               Uttarahalli      3 BHK       1440   2.0   62.00\n",
       "3        Lingadheeranahalli      3 BHK       1521   3.0   95.00\n",
       "4                  Kothanur      2 BHK       1200   2.0   51.00"
      ]
     },
     "execution_count": 98,
     "metadata": {},
     "output_type": "execute_result"
    }
   ],
   "source": [
    "df2 = df1.drop(columns=['area_type','availability','society','balcony'], axis='y')\n",
    "df2.head()"
   ]
  },
  {
   "cell_type": "code",
   "execution_count": 99,
   "id": "3d388bf4",
   "metadata": {},
   "outputs": [
    {
     "data": {
      "text/plain": [
       "location       1\n",
       "size          16\n",
       "total_sqft     0\n",
       "bath          73\n",
       "price          0\n",
       "dtype: int64"
      ]
     },
     "execution_count": 99,
     "metadata": {},
     "output_type": "execute_result"
    }
   ],
   "source": [
    "df2.isnull().sum()"
   ]
  },
  {
   "cell_type": "markdown",
   "id": "b40f28c9",
   "metadata": {},
   "source": [
    "### The amount of null values is very small as compared to our total data, so we can drop this rows safety\n"
   ]
  },
  {
   "cell_type": "code",
   "execution_count": 100,
   "id": "c2e769b0",
   "metadata": {},
   "outputs": [
    {
     "data": {
      "text/plain": [
       "location      0\n",
       "size          0\n",
       "total_sqft    0\n",
       "bath          0\n",
       "price         0\n",
       "dtype: int64"
      ]
     },
     "execution_count": 100,
     "metadata": {},
     "output_type": "execute_result"
    }
   ],
   "source": [
    "df3 = df2.dropna()\n",
    "df3.isnull().sum()"
   ]
  },
  {
   "cell_type": "markdown",
   "id": "27459555",
   "metadata": {},
   "source": [
    "### We have 2 types of sizes: BHK and Bedroom. Creat a column with the int value"
   ]
  },
  {
   "cell_type": "code",
   "execution_count": 101,
   "id": "5968fc64",
   "metadata": {
    "scrolled": true
   },
   "outputs": [
    {
     "data": {
      "text/plain": [
       "array(['2 BHK', '4 Bedroom', '3 BHK', '4 BHK', '6 Bedroom', '3 Bedroom',\n",
       "       '1 BHK', '1 RK', '1 Bedroom', '8 Bedroom', '2 Bedroom',\n",
       "       '7 Bedroom', '5 BHK', '7 BHK', '6 BHK', '5 Bedroom', '11 BHK',\n",
       "       '9 BHK', '9 Bedroom', '27 BHK', '10 Bedroom', '11 Bedroom',\n",
       "       '10 BHK', '19 BHK', '16 BHK', '43 Bedroom', '14 BHK', '8 BHK',\n",
       "       '12 Bedroom', '13 BHK', '18 Bedroom'], dtype=object)"
      ]
     },
     "execution_count": 101,
     "metadata": {},
     "output_type": "execute_result"
    }
   ],
   "source": [
    "df3['size'].unique()"
   ]
  },
  {
   "cell_type": "code",
   "execution_count": 102,
   "id": "60c7acb9",
   "metadata": {},
   "outputs": [
    {
     "name": "stderr",
     "output_type": "stream",
     "text": [
      "<ipython-input-102-accd5b378882>:5: SettingWithCopyWarning: \n",
      "A value is trying to be set on a copy of a slice from a DataFrame.\n",
      "Try using .loc[row_indexer,col_indexer] = value instead\n",
      "\n",
      "See the caveats in the documentation: https://pandas.pydata.org/pandas-docs/stable/user_guide/indexing.html#returning-a-view-versus-a-copy\n",
      "  df3['bhk'] = df3['size'].apply(lambda size: get_bhk(size))\n"
     ]
    },
    {
     "data": {
      "text/html": [
       "<div>\n",
       "<style scoped>\n",
       "    .dataframe tbody tr th:only-of-type {\n",
       "        vertical-align: middle;\n",
       "    }\n",
       "\n",
       "    .dataframe tbody tr th {\n",
       "        vertical-align: top;\n",
       "    }\n",
       "\n",
       "    .dataframe thead th {\n",
       "        text-align: right;\n",
       "    }\n",
       "</style>\n",
       "<table border=\"1\" class=\"dataframe\">\n",
       "  <thead>\n",
       "    <tr style=\"text-align: right;\">\n",
       "      <th></th>\n",
       "      <th>location</th>\n",
       "      <th>size</th>\n",
       "      <th>total_sqft</th>\n",
       "      <th>bath</th>\n",
       "      <th>price</th>\n",
       "      <th>bhk</th>\n",
       "    </tr>\n",
       "  </thead>\n",
       "  <tbody>\n",
       "    <tr>\n",
       "      <th>0</th>\n",
       "      <td>Electronic City Phase II</td>\n",
       "      <td>2 BHK</td>\n",
       "      <td>1056</td>\n",
       "      <td>2.0</td>\n",
       "      <td>39.07</td>\n",
       "      <td>2</td>\n",
       "    </tr>\n",
       "    <tr>\n",
       "      <th>1</th>\n",
       "      <td>Chikka Tirupathi</td>\n",
       "      <td>4 Bedroom</td>\n",
       "      <td>2600</td>\n",
       "      <td>5.0</td>\n",
       "      <td>120.00</td>\n",
       "      <td>4</td>\n",
       "    </tr>\n",
       "    <tr>\n",
       "      <th>2</th>\n",
       "      <td>Uttarahalli</td>\n",
       "      <td>3 BHK</td>\n",
       "      <td>1440</td>\n",
       "      <td>2.0</td>\n",
       "      <td>62.00</td>\n",
       "      <td>3</td>\n",
       "    </tr>\n",
       "    <tr>\n",
       "      <th>3</th>\n",
       "      <td>Lingadheeranahalli</td>\n",
       "      <td>3 BHK</td>\n",
       "      <td>1521</td>\n",
       "      <td>3.0</td>\n",
       "      <td>95.00</td>\n",
       "      <td>3</td>\n",
       "    </tr>\n",
       "    <tr>\n",
       "      <th>4</th>\n",
       "      <td>Kothanur</td>\n",
       "      <td>2 BHK</td>\n",
       "      <td>1200</td>\n",
       "      <td>2.0</td>\n",
       "      <td>51.00</td>\n",
       "      <td>2</td>\n",
       "    </tr>\n",
       "  </tbody>\n",
       "</table>\n",
       "</div>"
      ],
      "text/plain": [
       "                   location       size total_sqft  bath   price  bhk\n",
       "0  Electronic City Phase II      2 BHK       1056   2.0   39.07    2\n",
       "1          Chikka Tirupathi  4 Bedroom       2600   5.0  120.00    4\n",
       "2               Uttarahalli      3 BHK       1440   2.0   62.00    3\n",
       "3        Lingadheeranahalli      3 BHK       1521   3.0   95.00    3\n",
       "4                  Kothanur      2 BHK       1200   2.0   51.00    2"
      ]
     },
     "execution_count": 102,
     "metadata": {},
     "output_type": "execute_result"
    }
   ],
   "source": [
    "def get_bhk(size):\n",
    "    bhk = int(size.split()[0])\n",
    "    return bhk\n",
    "\n",
    "df3['bhk'] = df3['size'].apply(lambda size: get_bhk(size))\n",
    "df3.head()"
   ]
  },
  {
   "cell_type": "code",
   "execution_count": 103,
   "id": "df45fde1",
   "metadata": {},
   "outputs": [
    {
     "data": {
      "text/plain": [
       "array([ 2,  4,  3,  6,  1,  8,  7,  5, 11,  9, 27, 10, 19, 16, 43, 14, 12,\n",
       "       13, 18], dtype=int64)"
      ]
     },
     "execution_count": 103,
     "metadata": {},
     "output_type": "execute_result"
    }
   ],
   "source": [
    "df3['bhk'].unique()"
   ]
  },
  {
   "cell_type": "code",
   "execution_count": 104,
   "id": "94b1b547",
   "metadata": {},
   "outputs": [
    {
     "data": {
      "text/html": [
       "<div>\n",
       "<style scoped>\n",
       "    .dataframe tbody tr th:only-of-type {\n",
       "        vertical-align: middle;\n",
       "    }\n",
       "\n",
       "    .dataframe tbody tr th {\n",
       "        vertical-align: top;\n",
       "    }\n",
       "\n",
       "    .dataframe thead th {\n",
       "        text-align: right;\n",
       "    }\n",
       "</style>\n",
       "<table border=\"1\" class=\"dataframe\">\n",
       "  <thead>\n",
       "    <tr style=\"text-align: right;\">\n",
       "      <th></th>\n",
       "      <th>location</th>\n",
       "      <th>size</th>\n",
       "      <th>total_sqft</th>\n",
       "      <th>bath</th>\n",
       "      <th>price</th>\n",
       "      <th>bhk</th>\n",
       "    </tr>\n",
       "  </thead>\n",
       "  <tbody>\n",
       "    <tr>\n",
       "      <th>1718</th>\n",
       "      <td>2Electronic City Phase II</td>\n",
       "      <td>27 BHK</td>\n",
       "      <td>8000</td>\n",
       "      <td>27.0</td>\n",
       "      <td>230.0</td>\n",
       "      <td>27</td>\n",
       "    </tr>\n",
       "    <tr>\n",
       "      <th>4684</th>\n",
       "      <td>Munnekollal</td>\n",
       "      <td>43 Bedroom</td>\n",
       "      <td>2400</td>\n",
       "      <td>40.0</td>\n",
       "      <td>660.0</td>\n",
       "      <td>43</td>\n",
       "    </tr>\n",
       "  </tbody>\n",
       "</table>\n",
       "</div>"
      ],
      "text/plain": [
       "                       location        size total_sqft  bath  price  bhk\n",
       "1718  2Electronic City Phase II      27 BHK       8000  27.0  230.0   27\n",
       "4684                Munnekollal  43 Bedroom       2400  40.0  660.0   43"
      ]
     },
     "execution_count": 104,
     "metadata": {},
     "output_type": "execute_result"
    }
   ],
   "source": [
    "df3[(df3['bhk']>20)]\n",
    "# House with 43 bedroom and 2400 is incompatible"
   ]
  },
  {
   "cell_type": "markdown",
   "id": "c8fa9013",
   "metadata": {},
   "source": [
    "### Transformin almost every value in the column 'total_sqft' in sqft float (the column has values in format Min/Max, Sq. Meter, yards, etc)"
   ]
  },
  {
   "cell_type": "code",
   "execution_count": 105,
   "id": "bb123715",
   "metadata": {
    "scrolled": false
   },
   "outputs": [
    {
     "data": {
      "text/plain": [
       "array(['1056', '2600', '1440', ..., '1133 - 1384', '774', '4689'],\n",
       "      dtype=object)"
      ]
     },
     "execution_count": 105,
     "metadata": {},
     "output_type": "execute_result"
    }
   ],
   "source": [
    "df3.total_sqft.unique()"
   ]
  },
  {
   "cell_type": "code",
   "execution_count": 106,
   "id": "d0d039a7",
   "metadata": {},
   "outputs": [
    {
     "data": {
      "text/plain": [
       "array(['2100 - 2850', '3067 - 8156', '1042 - 1105', '1145 - 1340',\n",
       "       '1015 - 1540', '34.46Sq. Meter', '1195 - 1440', '4125Perch',\n",
       "       '1120 - 1145', '3090 - 5002', '1160 - 1195', '1000Sq. Meter',\n",
       "       '1115 - 1130', '1100Sq. Yards', '520 - 645', '1000 - 1285',\n",
       "       '650 - 665', '633 - 666', '5.31Acres', '30Acres', '1445 - 1455',\n",
       "       '884 - 1116', '850 - 1093', '716Sq. Meter', '547.34 - 827.31',\n",
       "       '580 - 650', '3425 - 3435', '1804 - 2273', '3630 - 3800',\n",
       "       '4000 - 5249', '1500Sq. Meter', '142.61Sq. Meter', '1574Sq. Yards',\n",
       "       '1250 - 1305', '670 - 980', '1005.03 - 1252.49', '1004 - 1204',\n",
       "       '361.33Sq. Yards', '645 - 936', '2710 - 3360', '2830 - 2882',\n",
       "       '596 - 804', '1255 - 1863', '1300 - 1405', '117Sq. Yards',\n",
       "       '934 - 1437', '980 - 1030', '2249.81 - 4112.19', '1070 - 1315',\n",
       "       '3040Sq. Meter', '500Sq. Yards', '2806 - 3019', '613 - 648',\n",
       "       '704 - 730', '1210 - 1477', '3369 - 3464', '1125 - 1500',\n",
       "       '167Sq. Meter', '1076 - 1199', '381 - 535', '524 - 894',\n",
       "       '540 - 670', '315Sq. Yards', '2725 - 3250', '888 - 1290',\n",
       "       '660 - 700', '385 - 440', '770 - 841', '3Cents', '188.89Sq. Yards',\n",
       "       '1469 - 1766', '204Sq. Meter', '1255 - 1350', '870 - 1080',\n",
       "       '45Sq. Yards', '133.3Sq. Yards', '2580 - 2591', '2563 - 2733',\n",
       "       '605 - 624', '1349 - 3324', '78.03Sq. Meter', '3300 - 3335',\n",
       "       '1180 - 1630', '1365 - 1700', '122Sq. Yards', '84.53Sq. Meter',\n",
       "       '2.09Acres', '981 - 1249', '1565 - 1595', '24Guntha',\n",
       "       '1270 - 1275', '840 - 1010', '697Sq. Meter', '655 - 742',\n",
       "       '1408 - 1455', '942 - 1117', '598 - 958', '1500Cents',\n",
       "       '132Sq. Yards', '1010 - 1300', '2Acres', '1450 - 1950',\n",
       "       '1100Sq. Meter', '15Acres', '763 - 805', '3307 - 3464',\n",
       "       '1.26Acres', '620 - 934', '2462 - 2467', '540 - 740',\n",
       "       '3508 - 4201', '4900 - 4940', '755 - 770', '664 - 722',\n",
       "       '151.11Sq. Yards', '596 - 861', '615 - 985', '540 - 565',\n",
       "       '750 - 800', '1660 - 1805', '1079 - 1183', '2800 - 2870',\n",
       "       '1230 - 1290', '943 - 1220', '2041 - 2090', '527 - 639',\n",
       "       '1Grounds', '1160 - 1315', '706 - 716', '2940Sq. Yards',\n",
       "       '45.06Sq. Meter', '799 - 803', '2470 - 2790', '783 - 943',\n",
       "       '4500 - 5540', '1255 - 1375', '610 - 615', '854 - 960',\n",
       "       '2650 - 2990', '1.25Acres', '86.72Sq. Meter', '1230 - 1490',\n",
       "       '660 - 780', '1150 - 1194', '684 - 810', '1510 - 1670',\n",
       "       '1550 - 1590', '1235 - 1410', '38Guntha', '929 - 1078',\n",
       "       '2150 - 2225', '1520 - 1759', '629 - 1026', '1215 - 1495',\n",
       "       '6Acres', '1140 - 1250', '2400 - 2600', '1052 - 1322',\n",
       "       '5666 - 5669', '712 - 938', '1783 - 1878', '120Sq. Yards',\n",
       "       '24Sq. Meter', '2528 - 3188', '650 - 760', '1400 - 1421',\n",
       "       '4000 - 4450', '142.84Sq. Meter', '300Sq. Yards', '1437 - 1629',\n",
       "       '850 - 1060', '1200 - 1470', '1133 - 1384'], dtype=object)"
      ]
     },
     "execution_count": 106,
     "metadata": {},
     "output_type": "execute_result"
    }
   ],
   "source": [
    "def is_float(value):\n",
    "    try:\n",
    "        float(value)\n",
    "    except:\n",
    "        return False\n",
    "    return True\n",
    "\n",
    "df3[~df3['total_sqft'].apply(lambda value : is_float(value))]['total_sqft'].unique()"
   ]
  },
  {
   "cell_type": "code",
   "execution_count": 107,
   "id": "65cc3a3b",
   "metadata": {},
   "outputs": [],
   "source": [
    "import re\n",
    "\n",
    "def to_sqft_num(value):\n",
    "    '''Convert most part of formats to sqft. If not convert for any reason, returns False'''\n",
    "    float_val_reg = r'(\\d+(\\.?\\d*))'\n",
    "    \n",
    "    # Value format is correct\n",
    "    sqft_fmt = re.search(fr'^{float_val_reg}$', value)\n",
    "    \n",
    "    # Value format as 'xxxx - xxxx'\n",
    "    min_max_reg = fr'^{float_val_reg}\\s-\\s{float_val_reg}$'\n",
    "    min_max_fmt = re.search(min_max_reg, value)\n",
    "    \n",
    "    # Value format as 'xxxxSq. Meter'\n",
    "    sq_meter_reg = fr'^{float_val_reg}Sq. Meters?$'\n",
    "    sq_meter_fmt = re.search(sq_meter_reg, value, flags=re.I)\n",
    "    \n",
    "    # Value format as 'xxxxSq. Yards'\n",
    "    sq_yards_reg = fr'^{float_val_reg}Sq. Yards?$'\n",
    "    sq_yards_fmt = re.search(sq_yards_reg, value, flags=re.I)\n",
    "    \n",
    "    # Value format as 'xxxxAcres'\n",
    "    acres_reg = fr'^{float_val_reg}Acres?$'\n",
    "    acres_fmt = re.search(acres_reg, value, flags=re.I)    \n",
    "    \n",
    "    if sqft_fmt:\n",
    "        try:\n",
    "            return float(value)\n",
    "        except:\n",
    "            return None\n",
    "    \n",
    "    if min_max_fmt:\n",
    "        value = value.split('-')\n",
    "        num1 = float(value[0].strip())\n",
    "        num2 = float(value[-1].strip())\n",
    "        average = (num1 + num2) / 2\n",
    "        try:\n",
    "            return float(average)\n",
    "        except:\n",
    "            return None\n",
    "    \n",
    "    if sq_meter_fmt or sq_yards_fmt:\n",
    "        value = float(value.split('S')[0])\n",
    "        if sq_meter_fmt:  \n",
    "            try:\n",
    "                return float(value * 10.764)\n",
    "            except:\n",
    "                return None\n",
    "        if sq_yards_fmt:\n",
    "            try:\n",
    "                return float(value * 9)\n",
    "            except:\n",
    "                return None\n",
    "\n",
    "    if acres_fmt:\n",
    "        value = float(value.split('A')[0])\n",
    "        try:\n",
    "            return float(value * 43560)\n",
    "        except:\n",
    "            return None\n",
    "            \n",
    "    return None"
   ]
  },
  {
   "cell_type": "code",
   "execution_count": 108,
   "id": "448c2346",
   "metadata": {},
   "outputs": [
    {
     "data": {
      "text/plain": [
       "array([], dtype=float64)"
      ]
     },
     "execution_count": 108,
     "metadata": {},
     "output_type": "execute_result"
    }
   ],
   "source": [
    "df4 = df3.copy()\n",
    "\n",
    "df4['total_sqft'] = df4['total_sqft'].apply(lambda value : to_sqft_num(value))\n",
    "df4[~df4['total_sqft'].apply(lambda value : is_float(value))]['total_sqft'].unique()"
   ]
  },
  {
   "cell_type": "markdown",
   "id": "cbcabecd",
   "metadata": {},
   "source": [
    "### Create the column 'price_per_sqft'"
   ]
  },
  {
   "cell_type": "code",
   "execution_count": 109,
   "id": "1137c7ec",
   "metadata": {
    "scrolled": true
   },
   "outputs": [
    {
     "data": {
      "text/html": [
       "<div>\n",
       "<style scoped>\n",
       "    .dataframe tbody tr th:only-of-type {\n",
       "        vertical-align: middle;\n",
       "    }\n",
       "\n",
       "    .dataframe tbody tr th {\n",
       "        vertical-align: top;\n",
       "    }\n",
       "\n",
       "    .dataframe thead th {\n",
       "        text-align: right;\n",
       "    }\n",
       "</style>\n",
       "<table border=\"1\" class=\"dataframe\">\n",
       "  <thead>\n",
       "    <tr style=\"text-align: right;\">\n",
       "      <th></th>\n",
       "      <th>location</th>\n",
       "      <th>size</th>\n",
       "      <th>total_sqft</th>\n",
       "      <th>bath</th>\n",
       "      <th>price</th>\n",
       "      <th>bhk</th>\n",
       "      <th>price_per_sqft</th>\n",
       "    </tr>\n",
       "  </thead>\n",
       "  <tbody>\n",
       "    <tr>\n",
       "      <th>0</th>\n",
       "      <td>Electronic City Phase II</td>\n",
       "      <td>2 BHK</td>\n",
       "      <td>1056.0</td>\n",
       "      <td>2.0</td>\n",
       "      <td>39.07</td>\n",
       "      <td>2</td>\n",
       "      <td>3699.810606</td>\n",
       "    </tr>\n",
       "    <tr>\n",
       "      <th>1</th>\n",
       "      <td>Chikka Tirupathi</td>\n",
       "      <td>4 Bedroom</td>\n",
       "      <td>2600.0</td>\n",
       "      <td>5.0</td>\n",
       "      <td>120.00</td>\n",
       "      <td>4</td>\n",
       "      <td>4615.384615</td>\n",
       "    </tr>\n",
       "    <tr>\n",
       "      <th>2</th>\n",
       "      <td>Uttarahalli</td>\n",
       "      <td>3 BHK</td>\n",
       "      <td>1440.0</td>\n",
       "      <td>2.0</td>\n",
       "      <td>62.00</td>\n",
       "      <td>3</td>\n",
       "      <td>4305.555556</td>\n",
       "    </tr>\n",
       "    <tr>\n",
       "      <th>3</th>\n",
       "      <td>Lingadheeranahalli</td>\n",
       "      <td>3 BHK</td>\n",
       "      <td>1521.0</td>\n",
       "      <td>3.0</td>\n",
       "      <td>95.00</td>\n",
       "      <td>3</td>\n",
       "      <td>6245.890861</td>\n",
       "    </tr>\n",
       "    <tr>\n",
       "      <th>4</th>\n",
       "      <td>Kothanur</td>\n",
       "      <td>2 BHK</td>\n",
       "      <td>1200.0</td>\n",
       "      <td>2.0</td>\n",
       "      <td>51.00</td>\n",
       "      <td>2</td>\n",
       "      <td>4250.000000</td>\n",
       "    </tr>\n",
       "  </tbody>\n",
       "</table>\n",
       "</div>"
      ],
      "text/plain": [
       "                   location       size  total_sqft  bath   price  bhk  \\\n",
       "0  Electronic City Phase II      2 BHK      1056.0   2.0   39.07    2   \n",
       "1          Chikka Tirupathi  4 Bedroom      2600.0   5.0  120.00    4   \n",
       "2               Uttarahalli      3 BHK      1440.0   2.0   62.00    3   \n",
       "3        Lingadheeranahalli      3 BHK      1521.0   3.0   95.00    3   \n",
       "4                  Kothanur      2 BHK      1200.0   2.0   51.00    2   \n",
       "\n",
       "   price_per_sqft  \n",
       "0     3699.810606  \n",
       "1     4615.384615  \n",
       "2     4305.555556  \n",
       "3     6245.890861  \n",
       "4     4250.000000  "
      ]
     },
     "execution_count": 109,
     "metadata": {},
     "output_type": "execute_result"
    }
   ],
   "source": [
    "df5 = df4.copy()\n",
    "df5['price_per_sqft'] = df5['price']*100000/df5['total_sqft']\n",
    "df5.head()"
   ]
  },
  {
   "cell_type": "markdown",
   "id": "320158e8",
   "metadata": {},
   "source": [
    "### Put the locations with less than 10 houses in the group 'other'"
   ]
  },
  {
   "cell_type": "code",
   "execution_count": 110,
   "id": "7237086e",
   "metadata": {
    "scrolled": true
   },
   "outputs": [
    {
     "data": {
      "text/plain": [
       "1304"
      ]
     },
     "execution_count": 110,
     "metadata": {},
     "output_type": "execute_result"
    }
   ],
   "source": [
    "len(df5['location'].unique())"
   ]
  },
  {
   "cell_type": "code",
   "execution_count": 111,
   "id": "290fe857",
   "metadata": {},
   "outputs": [
    {
     "data": {
      "text/plain": [
       "location\n",
       "Whitefield             534\n",
       "Sarjapur  Road         392\n",
       "Electronic City        302\n",
       "Kanakpura Road         266\n",
       "Thanisandra            233\n",
       "                      ... \n",
       " Banaswadi               1\n",
       "Kanakadasa Layout        1\n",
       "Kanakapur main road      1\n",
       "Kanakapura  Rod          1\n",
       "whitefiled               1\n",
       "Name: location, Length: 1304, dtype: int64"
      ]
     },
     "execution_count": 111,
     "metadata": {},
     "output_type": "execute_result"
    }
   ],
   "source": [
    "df5['location'].apply(lambda loc : loc.strip())\n",
    "df5.groupby('location')['location'].count() > 10\n",
    "location_stats = df5.groupby('location')['location'].count().sort_values(ascending=False)\n",
    "location_stats"
   ]
  },
  {
   "cell_type": "code",
   "execution_count": 112,
   "id": "c75bf7b2",
   "metadata": {},
   "outputs": [
    {
     "data": {
      "text/plain": [
       "location\n",
       "Dodsworth Layout         10\n",
       "1st Block Koramangala    10\n",
       "Nagappa Reddy Layout     10\n",
       "Ganga Nagar              10\n",
       "Dairy Circle             10\n",
       "                         ..\n",
       " Banaswadi                1\n",
       "Kanakadasa Layout         1\n",
       "Kanakapur main road       1\n",
       "Kanakapura  Rod           1\n",
       "whitefiled                1\n",
       "Name: location, Length: 1063, dtype: int64"
      ]
     },
     "execution_count": 112,
     "metadata": {},
     "output_type": "execute_result"
    }
   ],
   "source": [
    "location_stats_less_than_10 = location_stats[location_stats <= 10]\n",
    "location_stats_less_than_10"
   ]
  },
  {
   "cell_type": "code",
   "execution_count": 113,
   "id": "00919c71",
   "metadata": {},
   "outputs": [
    {
     "data": {
      "text/plain": [
       "1304"
      ]
     },
     "execution_count": 113,
     "metadata": {},
     "output_type": "execute_result"
    }
   ],
   "source": [
    "len(df5.location.unique())"
   ]
  },
  {
   "cell_type": "code",
   "execution_count": 114,
   "id": "7686d2b7",
   "metadata": {},
   "outputs": [
    {
     "data": {
      "text/plain": [
       "242"
      ]
     },
     "execution_count": 114,
     "metadata": {},
     "output_type": "execute_result"
    }
   ],
   "source": [
    "len(df5.location.unique())\n",
    "df5['location'] = df5['location'].apply(lambda loc : \"other\" if loc in location_stats_less_than_10 else loc)\n",
    "len(df5.location.unique())"
   ]
  },
  {
   "cell_type": "markdown",
   "id": "8d467747",
   "metadata": {},
   "source": [
    "# Task 2: Outlier Removal"
   ]
  },
  {
   "cell_type": "code",
   "execution_count": 115,
   "id": "77dbe4b5",
   "metadata": {},
   "outputs": [
    {
     "data": {
      "text/html": [
       "<div>\n",
       "<style scoped>\n",
       "    .dataframe tbody tr th:only-of-type {\n",
       "        vertical-align: middle;\n",
       "    }\n",
       "\n",
       "    .dataframe tbody tr th {\n",
       "        vertical-align: top;\n",
       "    }\n",
       "\n",
       "    .dataframe thead th {\n",
       "        text-align: right;\n",
       "    }\n",
       "</style>\n",
       "<table border=\"1\" class=\"dataframe\">\n",
       "  <thead>\n",
       "    <tr style=\"text-align: right;\">\n",
       "      <th></th>\n",
       "      <th>location</th>\n",
       "      <th>size</th>\n",
       "      <th>total_sqft</th>\n",
       "      <th>bath</th>\n",
       "      <th>price</th>\n",
       "      <th>bhk</th>\n",
       "      <th>price_per_sqft</th>\n",
       "    </tr>\n",
       "  </thead>\n",
       "  <tbody>\n",
       "    <tr>\n",
       "      <th>0</th>\n",
       "      <td>Electronic City Phase II</td>\n",
       "      <td>2 BHK</td>\n",
       "      <td>1056.0</td>\n",
       "      <td>2.0</td>\n",
       "      <td>39.07</td>\n",
       "      <td>2</td>\n",
       "      <td>3699.810606</td>\n",
       "    </tr>\n",
       "    <tr>\n",
       "      <th>1</th>\n",
       "      <td>Chikka Tirupathi</td>\n",
       "      <td>4 Bedroom</td>\n",
       "      <td>2600.0</td>\n",
       "      <td>5.0</td>\n",
       "      <td>120.00</td>\n",
       "      <td>4</td>\n",
       "      <td>4615.384615</td>\n",
       "    </tr>\n",
       "    <tr>\n",
       "      <th>2</th>\n",
       "      <td>Uttarahalli</td>\n",
       "      <td>3 BHK</td>\n",
       "      <td>1440.0</td>\n",
       "      <td>2.0</td>\n",
       "      <td>62.00</td>\n",
       "      <td>3</td>\n",
       "      <td>4305.555556</td>\n",
       "    </tr>\n",
       "    <tr>\n",
       "      <th>3</th>\n",
       "      <td>Lingadheeranahalli</td>\n",
       "      <td>3 BHK</td>\n",
       "      <td>1521.0</td>\n",
       "      <td>3.0</td>\n",
       "      <td>95.00</td>\n",
       "      <td>3</td>\n",
       "      <td>6245.890861</td>\n",
       "    </tr>\n",
       "    <tr>\n",
       "      <th>4</th>\n",
       "      <td>Kothanur</td>\n",
       "      <td>2 BHK</td>\n",
       "      <td>1200.0</td>\n",
       "      <td>2.0</td>\n",
       "      <td>51.00</td>\n",
       "      <td>2</td>\n",
       "      <td>4250.000000</td>\n",
       "    </tr>\n",
       "  </tbody>\n",
       "</table>\n",
       "</div>"
      ],
      "text/plain": [
       "                   location       size  total_sqft  bath   price  bhk  \\\n",
       "0  Electronic City Phase II      2 BHK      1056.0   2.0   39.07    2   \n",
       "1          Chikka Tirupathi  4 Bedroom      2600.0   5.0  120.00    4   \n",
       "2               Uttarahalli      3 BHK      1440.0   2.0   62.00    3   \n",
       "3        Lingadheeranahalli      3 BHK      1521.0   3.0   95.00    3   \n",
       "4                  Kothanur      2 BHK      1200.0   2.0   51.00    2   \n",
       "\n",
       "   price_per_sqft  \n",
       "0     3699.810606  \n",
       "1     4615.384615  \n",
       "2     4305.555556  \n",
       "3     6245.890861  \n",
       "4     4250.000000  "
      ]
     },
     "execution_count": 115,
     "metadata": {},
     "output_type": "execute_result"
    }
   ],
   "source": [
    "df6 = df5.copy()\n",
    "df6.head()"
   ]
  },
  {
   "cell_type": "markdown",
   "id": "9be637b8",
   "metadata": {},
   "source": [
    "## bhk outlier remove\n",
    "- It's common have a bhk per, at most, 300 sqft. If the house has more than it we can remove them"
   ]
  },
  {
   "cell_type": "code",
   "execution_count": 116,
   "id": "4e8ee1e7",
   "metadata": {},
   "outputs": [
    {
     "data": {
      "text/html": [
       "<div>\n",
       "<style scoped>\n",
       "    .dataframe tbody tr th:only-of-type {\n",
       "        vertical-align: middle;\n",
       "    }\n",
       "\n",
       "    .dataframe tbody tr th {\n",
       "        vertical-align: top;\n",
       "    }\n",
       "\n",
       "    .dataframe thead th {\n",
       "        text-align: right;\n",
       "    }\n",
       "</style>\n",
       "<table border=\"1\" class=\"dataframe\">\n",
       "  <thead>\n",
       "    <tr style=\"text-align: right;\">\n",
       "      <th></th>\n",
       "      <th>location</th>\n",
       "      <th>size</th>\n",
       "      <th>total_sqft</th>\n",
       "      <th>bath</th>\n",
       "      <th>price</th>\n",
       "      <th>bhk</th>\n",
       "      <th>price_per_sqft</th>\n",
       "    </tr>\n",
       "  </thead>\n",
       "  <tbody>\n",
       "    <tr>\n",
       "      <th>9</th>\n",
       "      <td>other</td>\n",
       "      <td>6 Bedroom</td>\n",
       "      <td>1020.0</td>\n",
       "      <td>6.0</td>\n",
       "      <td>370.0</td>\n",
       "      <td>6</td>\n",
       "      <td>36274.509804</td>\n",
       "    </tr>\n",
       "    <tr>\n",
       "      <th>45</th>\n",
       "      <td>HSR Layout</td>\n",
       "      <td>8 Bedroom</td>\n",
       "      <td>600.0</td>\n",
       "      <td>9.0</td>\n",
       "      <td>200.0</td>\n",
       "      <td>8</td>\n",
       "      <td>33333.333333</td>\n",
       "    </tr>\n",
       "    <tr>\n",
       "      <th>58</th>\n",
       "      <td>Murugeshpalya</td>\n",
       "      <td>6 Bedroom</td>\n",
       "      <td>1407.0</td>\n",
       "      <td>4.0</td>\n",
       "      <td>150.0</td>\n",
       "      <td>6</td>\n",
       "      <td>10660.980810</td>\n",
       "    </tr>\n",
       "    <tr>\n",
       "      <th>68</th>\n",
       "      <td>other</td>\n",
       "      <td>8 Bedroom</td>\n",
       "      <td>1350.0</td>\n",
       "      <td>7.0</td>\n",
       "      <td>85.0</td>\n",
       "      <td>8</td>\n",
       "      <td>6296.296296</td>\n",
       "    </tr>\n",
       "    <tr>\n",
       "      <th>70</th>\n",
       "      <td>other</td>\n",
       "      <td>3 Bedroom</td>\n",
       "      <td>500.0</td>\n",
       "      <td>3.0</td>\n",
       "      <td>100.0</td>\n",
       "      <td>3</td>\n",
       "      <td>20000.000000</td>\n",
       "    </tr>\n",
       "  </tbody>\n",
       "</table>\n",
       "</div>"
      ],
      "text/plain": [
       "         location       size  total_sqft  bath  price  bhk  price_per_sqft\n",
       "9           other  6 Bedroom      1020.0   6.0  370.0    6    36274.509804\n",
       "45     HSR Layout  8 Bedroom       600.0   9.0  200.0    8    33333.333333\n",
       "58  Murugeshpalya  6 Bedroom      1407.0   4.0  150.0    6    10660.980810\n",
       "68          other  8 Bedroom      1350.0   7.0   85.0    8     6296.296296\n",
       "70          other  3 Bedroom       500.0   3.0  100.0    3    20000.000000"
      ]
     },
     "execution_count": 116,
     "metadata": {},
     "output_type": "execute_result"
    }
   ],
   "source": [
    "df6[df6['total_sqft']/df6['bhk'] < 300].head()"
   ]
  },
  {
   "cell_type": "code",
   "execution_count": 117,
   "id": "bdc946f0",
   "metadata": {},
   "outputs": [
    {
     "name": "stdout",
     "output_type": "stream",
     "text": [
      "(13246, 7)\n",
      "(12499, 7)\n"
     ]
    }
   ],
   "source": [
    "print(df6.shape)\n",
    "df6 = df6[~(df6['total_sqft']/df6['bhk'] < 300)]\n",
    "print(df6.shape)"
   ]
  },
  {
   "cell_type": "markdown",
   "id": "7c471ca5",
   "metadata": {},
   "source": [
    "## Price per squarefoot\n",
    "- We can get rid of the houses where the price is very high or very low\n",
    "- To determine which price is very high or very low, we use the standard deviation (the price has to be between ' mean +- standard deviation '"
   ]
  },
  {
   "cell_type": "code",
   "execution_count": 118,
   "id": "65230f62",
   "metadata": {
    "scrolled": true
   },
   "outputs": [
    {
     "data": {
      "text/plain": [
       "count     12493.000000\n",
       "mean       6301.052137\n",
       "std        4168.531107\n",
       "min           2.257423\n",
       "25%        4205.607477\n",
       "50%        5291.005291\n",
       "75%        6916.996047\n",
       "max      176470.588235\n",
       "Name: price_per_sqft, dtype: float64"
      ]
     },
     "execution_count": 118,
     "metadata": {},
     "output_type": "execute_result"
    }
   ],
   "source": [
    "df6['price_per_sqft'].describe()"
   ]
  },
  {
   "cell_type": "code",
   "execution_count": 120,
   "id": "866ffc8f",
   "metadata": {
    "scrolled": false
   },
   "outputs": [
    {
     "name": "stdout",
     "output_type": "stream",
     "text": [
      "(12499, 7)\n"
     ]
    },
    {
     "data": {
      "text/plain": [
       "(10269, 7)"
      ]
     },
     "execution_count": 120,
     "metadata": {},
     "output_type": "execute_result"
    }
   ],
   "source": [
    "def remove_pps_outliners(df):\n",
    "    df_out = pd.DataFrame()\n",
    "    for key, subdf in df.groupby('location'):\n",
    "        mean = np.mean(subdf['price_per_sqft'])\n",
    "        std_dev = np.std(subdf['price_per_sqft'])\n",
    "        reduced_df = subdf[(subdf['price_per_sqft'] <= (mean + std_dev)) & (subdf['price_per_sqft'] >= (mean - std_dev))]\n",
    "        df_out = pd.concat([df_out, reduced_df], ignore_index=True)\n",
    "    return df_out\n",
    "\n",
    "print(df6.shape)\n",
    "df7 = remove_pps_outliners(df6)\n",
    "df7.shape\n",
    "\n",
    "#There was 2230 (12499 - 10269) houses with prices outliners"
   ]
  },
  {
   "cell_type": "markdown",
   "id": "0318bdd1",
   "metadata": {},
   "source": [
    "### Get the price for houses with the same sqft and different bhk\n",
    "- 3 bkh houses are more expensive than 2 bhk houses?"
   ]
  },
  {
   "cell_type": "code",
   "execution_count": 148,
   "id": "0ee5dbd0",
   "metadata": {},
   "outputs": [
    {
     "data": {
      "image/png": "[encoded data removed]",
      "text/plain": [
       "<Figure size 1080x720 with 1 Axes>"
      ]
     },
     "metadata": {
      "needs_background": "light"
     },
     "output_type": "display_data"
    }
   ],
   "source": [
    "def plot_scatter_chart(df, location):\n",
    "    bhk2 = df[(df.location == location) & (df.bhk == 2)]\n",
    "    bhk3 = df[(df.location == location) & (df.bhk == 3)]\n",
    "    \n",
    "    matplotlib.rcParams['figure.figsize'] = (15,10)\n",
    "    plt.scatter(bhk2.total_sqft, bhk2.price_per_sqft, color='b', label='2 BHK', s=50)\n",
    "    plt.scatter(bhk3.total_sqft, bhk3.price_per_sqft, color='r', label='3 BHK', s=50)\n",
    "    plt.xlabel('Total Square Feet Area', size=20)\n",
    "    plt.ylabel('Price Per Square Feet', size=20)\n",
    "    plt.xticks(size=15)\n",
    "    plt.yticks(size=15)\n",
    "    plt.title(location, size=30)\n",
    "    plt.grid()\n",
    "    plt.legend(fontsize=20)\n",
    "    \n",
    "plot_scatter_chart(df7, 'Rajaji Nagar')"
   ]
  }
 ],
 "metadata": {
  "kernelspec": {
   "display_name": "Python 3",
   "language": "python",
   "name": "python3"
  },
  "language_info": {
   "codemirror_mode": {
    "name": "ipython",
    "version": 3
   },
   "file_extension": ".py",
   "mimetype": "text/x-python",
   "name": "python",
   "nbconvert_exporter": "python",
   "pygments_lexer": "ipython3",
   "version": "3.8.8"
  }
 },
 "nbformat": 4,
 "nbformat_minor": 5
}
